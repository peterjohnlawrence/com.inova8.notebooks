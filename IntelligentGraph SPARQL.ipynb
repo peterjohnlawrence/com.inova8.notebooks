{
 "cells": [
  {
   "cell_type": "markdown",
   "metadata": {},
   "source": [
    "**IntelligentGraph SPARQL**"
   ]
  },
  {
   "cell_type": "markdown",
   "metadata": {},
   "source": [
    "Any IntelligentGraph can be queried using SPARQL. Any calculated value encountered will be automatically evaluated."
   ]
  },
  {
   "cell_type": "markdown",
   "metadata": {},
   "source": [
    "We start by connecting to a SPARQL endpoint foir the IntelligentGraph"
   ]
  },
  {
   "cell_type": "code",
   "execution_count": 1,
   "metadata": {},
   "outputs": [
    {
     "data": {
      "text/html": [
       "<div class=\"krn-spql\"><div class=\"magic\">Endpoint set to: http://host.docker.internal:8080/rdf4j-server/repositories/calc2graph</div></div>"
      ],
      "text/plain": [
       "Endpoint set to: http://host.docker.internal:8080/rdf4j-server/repositories/calc2graph\n"
      ]
     },
     "metadata": {},
     "output_type": "display_data"
    }
   ],
   "source": [
    "%endpoint http://host.docker.internal:8080/rdf4j-server/repositories/calc2graph"
   ]
  },
  {
   "cell_type": "markdown",
   "metadata": {},
   "source": [
    "We can then issue any SPARQL query as follows:"
   ]
  },
  {
   "cell_type": "code",
   "execution_count": 2,
   "metadata": {},
   "outputs": [
    {
     "data": {
      "text/html": [
       "<div class=\"krn-spql\"><table><tr class=hdr><th>s</th>\n",
       "<th>p</th>\n",
       "<th>o</th></tr><tr class=odd><td class=val><a href=\"http://inova8.com/calc2graph/testGraph2\" target=\"_other\">http://inova8.com/calc2graph/testGraph2</a></td>\n",
       "<td class=val><a href=\"http://inova8.com/script/cacheDateTime\" target=\"_other\">http://inova8.com/script/cacheDateTime</a></td>\n",
       "<td class=val>2021-05-24T15:08:12.672Z</td></tr><tr class=even><td class=val><a href=\"http://inova8.com/calc2graph/testGraph2\" target=\"_other\">http://inova8.com/calc2graph/testGraph2</a></td>\n",
       "<td class=val><a href=\"http://inova8.com/script/isPrivate\" target=\"_other\">http://inova8.com/script/isPrivate</a></td>\n",
       "<td class=val>true</td></tr><tr class=odd><td class=val><a href=\"http://inova8.com/calc2graph/def/Country1\" target=\"_other\">http://inova8.com/calc2graph/def/Country1</a></td>\n",
       "<td class=val><a href=\"http://inova8.com/calc2graph/def/sales\" target=\"_other\">http://inova8.com/calc2graph/def/sales</a></td>\n",
       "<td class=val>1</td></tr><tr class=even><td class=val><a href=\"http://inova8.com/calc2graph/def/Country1\" target=\"_other\">http://inova8.com/calc2graph/def/Country1</a></td>\n",
       "<td class=val><a href=\"http://inova8.com/calc2graph/def/sales\" target=\"_other\">http://inova8.com/calc2graph/def/sales</a></td>\n",
       "<td class=val>2</td></tr><tr class=odd><td class=val><a href=\"http://inova8.com/calc2graph/def/Country1\" target=\"_other\">http://inova8.com/calc2graph/def/Country1</a></td>\n",
       "<td class=val><a href=\"http://inova8.com/calc2graph/def/sales\" target=\"_other\">http://inova8.com/calc2graph/def/sales</a></td>\n",
       "<td class=val>3</td></tr><tr class=even><td class=val><a href=\"http://inova8.com/calc2graph/def/Country1\" target=\"_other\">http://inova8.com/calc2graph/def/Country1</a></td>\n",
       "<td class=val><a href=\"http://inova8.com/calc2graph/def/sales\" target=\"_other\">http://inova8.com/calc2graph/def/sales</a></td>\n",
       "<td class=val>4</td></tr><tr class=odd><td class=val><a href=\"http://inova8.com/calc2graph/def/Country1\" target=\"_other\">http://inova8.com/calc2graph/def/Country1</a></td>\n",
       "<td class=val><a href=\"http://inova8.com/calc2graph/def/sales\" target=\"_other\">http://inova8.com/calc2graph/def/sales</a></td>\n",
       "<td class=val>5</td></tr><tr class=even><td class=val><a href=\"http://inova8.com/calc2graph/def/Country1\" target=\"_other\">http://inova8.com/calc2graph/def/Country1</a></td>\n",
       "<td class=val><a href=\"http://inova8.com/calc2graph/def/sales\" target=\"_other\">http://inova8.com/calc2graph/def/sales</a></td>\n",
       "<td class=val>500</td></tr><tr class=odd><td class=val><a href=\"http://inova8.com/calc2graph/def/Country1\" target=\"_other\">http://inova8.com/calc2graph/def/Country1</a></td>\n",
       "<td class=val><a href=\"http://inova8.com/calc2graph/def/averageSales\" target=\"_other\">http://inova8.com/calc2graph/def/averageSales</a></td>\n",
       "<td class=val>85.83333333333333</td></tr></table><div class=\"tinfo\">Total: 9, Shown: 9</div></div>"
      ]
     },
     "metadata": {},
     "output_type": "display_data"
    }
   ],
   "source": [
    "prefix def: <http://inova8.com/calc2graph/def/>\n",
    "select * from <http://inova8.com/calc2graph/testGraph2> {?s ?p ?o}"
   ]
  },
  {
   "cell_type": "markdown",
   "metadata": {},
   "source": [
    "If we refer to the GettingStarted Notbook, we can see we constructed some sales data, and included a calculation for the average sales:"
   ]
  },
  {
   "cell_type": "markdown",
   "metadata": {},
   "source": [
    "If we wanted to focus just on the calculated value, we could modify the query as follows:"
   ]
  },
  {
   "cell_type": "code",
   "execution_count": 3,
   "metadata": {},
   "outputs": [
    {
     "data": {
      "text/html": [
       "<div class=\"krn-spql\"><table><tr class=hdr><th>o</th></tr><tr class=odd><td class=val>85.83333333333333</td></tr></table><div class=\"tinfo\">Total: 1, Shown: 1</div></div>"
      ]
     },
     "metadata": {},
     "output_type": "display_data"
    }
   ],
   "source": [
    "prefix def: <http://inova8.com/calc2graph/def/>\n",
    "select * from <http://inova8.com/calc2graph/testGraph2> {def:Country1 def:averageSales ?o}"
   ]
  },
  {
   "cell_type": "markdown",
   "metadata": {},
   "source": [
    "What about seeing the actual script, or an execution trace of the evaluation? We can access these by using a specific postfix for the SPARQL variable: _SCRIPT for the script contents, _TRACE for the execution trace"
   ]
  },
  {
   "cell_type": "code",
   "execution_count": 4,
   "metadata": {},
   "outputs": [
    {
     "data": {
      "text/html": [
       "<div class=\"krn-spql\"><table><tr class=hdr><th>o</th>\n",
       "<th>o_SCRIPT</th>\n",
       "<th>o_TRACE</th></tr><tr class=odd><td class=val>85.83333333333333</td>\n",
       "<td class=val>totalSales=0; count=0;for(sales in $this.getFacts(&quot;&lt;http://inova8.com/calc2graph/def/sales&gt;&quot;)){totalSales +=  sales.doubleValue();count++}; return totalSales/count;</td>\n",
       "<td class=val>&lt;ol style='list-style-type:none;'&gt;&lt;/ol&gt;</td></tr></table><div class=\"tinfo\">Total: 1, Shown: 1</div></div>"
      ]
     },
     "metadata": {},
     "output_type": "display_data"
    }
   ],
   "source": [
    "prefix def: <http://inova8.com/calc2graph/def/>\n",
    "select * from <http://inova8.com/calc2graph/testGraph2> {def:Country1 def:averageSales ?o, ?o_SCRIPT, ?o_TRACE}"
   ]
  },
  {
   "cell_type": "markdown",
   "metadata": {},
   "source": [
    "The TRACE is HTML formatted, whilst the SCRIPT is the raw contents."
   ]
  },
  {
   "cell_type": "code",
   "execution_count": null,
   "metadata": {},
   "outputs": [],
   "source": []
  },
  {
   "cell_type": "code",
   "execution_count": null,
   "metadata": {},
   "outputs": [],
   "source": []
  }
 ],
 "metadata": {
  "kernelspec": {
   "display_name": "SPARQL",
   "language": "sparql",
   "name": "sparql"
  },
  "language_info": {
   "codemirror_mode": {
    "name": "sparql"
   },
   "mimetype": "application/sparql-query",
   "name": "sparql",
   "pygments_lexer": "sparql-nb"
  }
 },
 "nbformat": 4,
 "nbformat_minor": 4
}
