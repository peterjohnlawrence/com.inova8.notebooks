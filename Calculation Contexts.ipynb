{
 "cells": [
  {
   "cell_type": "markdown",
   "metadata": {},
   "source": [
    "**Calculation Contexts**"
   ]
  },
  {
   "cell_type": "markdown",
   "metadata": {},
   "source": [
    "Usually, when evaluating functions a user often supplies additional arguments, such as date range, type of things to be included etc."
   ]
  },
  {
   "cell_type": "markdown",
   "metadata": {},
   "source": [
    "These additional arguments are supplied to IntelligentGraph via an object called an 'EvaluationContext'. An EvaluationContext contains a 'bag' of name/value pairs called customQueryOptions which can be accessed within any script running within the same context using a call like this: \"var localtime = $customQueryOptions.get(\"time\");\"  where \"time\" in this case is the name of the object included in the customQueryOptions bag."
   ]
  },
  {
   "cell_type": "markdown",
   "metadata": {},
   "source": [
    "To demonstrate this lets connect to our graph and add a claculation that depends on a customQueryOption"
   ]
  },
  {
   "cell_type": "code",
   "execution_count": 1,
   "metadata": {},
   "outputs": [],
   "source": [
    "%jars /usr/share/olgap-0.1.0.jar"
   ]
  },
  {
   "cell_type": "markdown",
   "metadata": {},
   "source": [
    "You will also need to 'import' the classes that you will use in your code:"
   ]
  },
  {
   "cell_type": "code",
   "execution_count": 2,
   "metadata": {},
   "outputs": [],
   "source": [
    "import pathCalc.Thing;\n",
    "import pathQLModel.Resource;\n",
    "import pathCalc.Evaluator;\n",
    "import pathQLRepository.*;"
   ]
  },
  {
   "cell_type": "markdown",
   "metadata": {},
   "source": [
    "You need to access an existing IntelligentGraph repository, and in this example assign it to the variable 'source'"
   ]
  },
  {
   "cell_type": "code",
   "execution_count": 3,
   "metadata": {},
   "outputs": [
    {
     "name": "stdout",
     "output_type": "stream",
     "text": [
      "WARNING: sun.reflect.Reflection.getCallerClass is not supported. This will impact performance.\n"
     ]
    }
   ],
   "source": [
    "PathQLRepository source = PathQLRepository.create(\"http://host.docker.internal:8080/rdf4j-server\",\"calc2graph\");"
   ]
  },
  {
   "cell_type": "markdown",
   "metadata": {},
   "source": [
    "Carefully note the use of 'http://host.docker.internal:8080'. This is the equivalent of 'http://localhost:8080' when Jupyter is running in a Docker container accessing a Repository on 'http://localhost:8080'\n",
    "\n",
    "Unless you like typing in the full IRI  (aka URL) of 'things, it is a good idea to define some prefixes so we can use qNames instead:"
   ]
  },
  {
   "cell_type": "code",
   "execution_count": 4,
   "metadata": {},
   "outputs": [
    {
     "data": {
      "text/plain": [
       "pathQLRepository.PathQLRepository@4a4c1e06"
      ]
     },
     "execution_count": 4,
     "metadata": {},
     "output_type": "execute_result"
    }
   ],
   "source": [
    "source.prefix(\"<http://inova8.com/calc2graph/def/>\");\n",
    "source.prefix(\"rdfs\",\"<http://www.w3.org/2000/01/rdf-schema#>\");"
   ]
  },
  {
   "cell_type": "markdown",
   "metadata": {},
   "source": [
    "Just to make sure we are stating with a clean sheet, lets remove the graph:"
   ]
  },
  {
   "cell_type": "code",
   "execution_count": 5,
   "metadata": {},
   "outputs": [
    {
     "data": {
      "text/plain": [
       "http://inova8.com/calc2graph/contextGraph"
      ]
     },
     "execution_count": 5,
     "metadata": {},
     "output_type": "execute_result"
    }
   ],
   "source": [
    "source.removeGraph(\"<http://inova8.com/calc2graph/contextGraph>\");"
   ]
  },
  {
   "cell_type": "code",
   "execution_count": 6,
   "metadata": {},
   "outputs": [],
   "source": [
    "Graph graph = source.addGraph(\"<http://inova8.com/calc2graph/contextGraph>\");"
   ]
  },
  {
   "cell_type": "markdown",
   "metadata": {},
   "source": [
    "As before let's work with a myCountry 'thing'"
   ]
  },
  {
   "cell_type": "code",
   "execution_count": 7,
   "metadata": {},
   "outputs": [],
   "source": [
    "Thing myCountry = graph.getThing(\":Country1\");"
   ]
  },
  {
   "cell_type": "markdown",
   "metadata": {},
   "source": [
    "This time we will only add a calculated fact, and all this calculation does is access a customQueryOption value"
   ]
  },
  {
   "cell_type": "code",
   "execution_count": 8,
   "metadata": {},
   "outputs": [
    {
     "name": "stdout",
     "output_type": "stream",
     "text": [
      "2021-05-20 17:34:37 INFO  Evaluator- 3 scripting engines were found with the following short names:js;JS;JavaScript;javascript;ECMAScript;ecmascript;Graal.js;graal.js;Graal-js;graal-js;Graal.JS;Graal-JS;GraalJS;GraalJSPolyglot;groovy;Groovy;python;jython;\n"
     ]
    },
    {
     "data": {
      "text/plain": [
       "http://inova8.com/calc2graph/def/Country1"
      ]
     },
     "execution_count": 8,
     "metadata": {},
     "output_type": "execute_result"
    }
   ],
   "source": [
    "String customQueryOptionTimeScript = \"$customQueryOptions.get(\\\"time\\\");\";\n",
    "myCountry.addFact(\":time\", customQueryOptionTimeScript, Evaluator.GROOVY) ;"
   ]
  },
  {
   "cell_type": "code",
   "execution_count": 9,
   "metadata": {},
   "outputs": [],
   "source": [
    "//myCountry.getFact(\":time\")"
   ]
  },
  {
   "cell_type": "markdown",
   "metadata": {},
   "source": [
    "So why did we get an error? Because we have not yet initialized any customQueryOptions, so IntelligentGraph just treats it as a NULL value."
   ]
  },
  {
   "cell_type": "code",
   "execution_count": 10,
   "metadata": {},
   "outputs": [
    {
     "data": {
      "text/plain": [
       "{name=\"Peter\", time=\"42\"^^<http://www.w3.org/2001/XMLSchema#int>}"
      ]
     },
     "execution_count": 10,
     "metadata": {},
     "output_type": "execute_result"
    }
   ],
   "source": [
    "import pathCalc.CustomQueryOptions;\n",
    "\n",
    "CustomQueryOptions  customQueryOptions = new CustomQueryOptions();\n",
    "customQueryOptions.put(\"time\",42);\n",
    "customQueryOptions.put(\"name\",\"Peter\");\n",
    "customQueryOptions;"
   ]
  },
  {
   "cell_type": "markdown",
   "metadata": {},
   "source": [
    "And we can see from the following the customQueryOptions 'bag' is empty"
   ]
  },
  {
   "cell_type": "code",
   "execution_count": 11,
   "metadata": {},
   "outputs": [],
   "source": [
    "myCountry = graph.getThing(\":Country1\",customQueryOptions );"
   ]
  },
  {
   "cell_type": "code",
   "execution_count": 14,
   "metadata": {},
   "outputs": [
    {
     "data": {
      "text/plain": [
       "\"Evaluated null for http://inova8.com/calc2graph/def/time of http://inova8.com/calc2graph/def/Country1, using script \"$customQueryOptions.get(\"time\");\"^^<http://inova8.com/script/groovy>\""
      ]
     },
     "execution_count": 14,
     "metadata": {},
     "output_type": "execute_result"
    }
   ],
   "source": [
    "myCountry.getFact(\":time\");"
   ]
  },
  {
   "cell_type": "code",
   "execution_count": null,
   "metadata": {},
   "outputs": [],
   "source": []
  }
 ],
 "metadata": {
  "kernelspec": {
   "display_name": "Java",
   "language": "java",
   "name": "java"
  },
  "language_info": {
   "codemirror_mode": "java",
   "file_extension": ".jshell",
   "mimetype": "text/x-java-source",
   "name": "Java",
   "pygments_lexer": "java",
   "version": "11.0.9.1+1-post-Debian-1deb10u2"
  }
 },
 "nbformat": 4,
 "nbformat_minor": 4
}
